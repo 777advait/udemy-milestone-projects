{
 "cells": [
  {
   "cell_type": "code",
   "execution_count": 1,
   "id": "sudden-algorithm",
   "metadata": {},
   "outputs": [],
   "source": [
    "from random import shuffle # to shuffle the deck\n",
    "from rich.console import Console # to format coloured text on command line\n",
    "\n",
    "console = Console()"
   ]
  },
  {
   "cell_type": "code",
   "execution_count": 2,
   "id": "nominated-arnold",
   "metadata": {},
   "outputs": [],
   "source": [
    "suits = [\n",
    "    '♡',\n",
    "    '♢',\n",
    "    '♤',\n",
    "    '♧'\n",
    "]\n",
    "ranks = [\n",
    "    '2',\n",
    "    '3', \n",
    "    '4',\n",
    "    '5',\n",
    "    '6',\n",
    "    '7',\n",
    "    '8',\n",
    "    '9',\n",
    "    '10',\n",
    "    'J',\n",
    "    'Q',\n",
    "    'K',\n",
    "    'A'\n",
    "]\n",
    "values = {\n",
    "    '2':2,\n",
    "    '3':3,\n",
    "    '4':4,\n",
    "    '5':5,\n",
    "    '6':6,\n",
    "    '7':7,\n",
    "    '8':8,\n",
    "    '9':9,\n",
    "    '10':10,\n",
    "    'J':10,\n",
    "    'Q':10,\n",
    "    'K':10,\n",
    "    'A':11\n",
    "}\n",
    "playing = True"
   ]
  },
  {
   "cell_type": "code",
   "execution_count": 3,
   "id": "revised-findings",
   "metadata": {},
   "outputs": [],
   "source": [
    "class Card():\n",
    "    def __init__(self, suit, rank):\n",
    "        self.suit = suit\n",
    "        self.rank = rank"
   ]
  },
  {
   "cell_type": "code",
   "execution_count": 4,
   "id": "sealed-pension",
   "metadata": {},
   "outputs": [],
   "source": [
    "class Deck():\n",
    "    def __init__(self):\n",
    "        self.deck = [] # holds the cards in a deck\n",
    "\n",
    "        for suit in suits:\n",
    "            for rank in ranks:\n",
    "                self.deck.append(Card(suit, rank)) # builds a card\n",
    "\n",
    "    def shuffle_deck(self): # shuffles the deck\n",
    "        shuffle(self.deck)\n",
    "\n",
    "    def deal_card(self): # removes a card fro deck\n",
    "        return self.deck.pop()"
   ]
  },
  {
   "cell_type": "code",
   "execution_count": 5,
   "id": "neither-portugal",
   "metadata": {},
   "outputs": [],
   "source": [
    "class Player():\n",
    "    def __init__(self, isDealer):\n",
    "        # isDealer attrib is being used to distinguish between human player and computer player\n",
    "        self.isDealer = isDealer # boolean value is expected for isDealer attrib\n",
    "        self.cards = [] # holds the cards dealt to the player/dealer\n",
    "        self.value = 0 # total value of player/dealer's hand\n",
    "        self.aces = 0 # total number of aces in player/dealer's hand (useful to adjust the value of aces)\n",
    "\n",
    "    def add_card(self, new_card): # adds one card to player/dealer's hand\n",
    "        self.cards.append(new_card)\n",
    "        self.value += values[new_card.rank]\n",
    "        if new_card.rank == 'A':\n",
    "            self.aces += 1  # add to self.aces\n",
    "\n",
    "    def adjust_for_ace (self): # to adjust the value of ace to 1 instead of 11\n",
    "        while self.value > 21 and self.aces:\n",
    "            self.value -= 10\n",
    "            self.aces -= 1"
   ]
  },
  {
   "cell_type": "code",
   "execution_count": 6,
   "id": "extensive-renaissance",
   "metadata": {},
   "outputs": [],
   "source": [
    "class Chips():\n",
    "    def __init__(self):\n",
    "        self.total_chips = 100 # deafult number of chips a player has\n",
    "        self.bet = 0\n",
    "    \n",
    "    def win_bet(self):\n",
    "        self.total_chips += self.bet\n",
    "\n",
    "    def lose_bet(self):\n",
    "        self.total_chips -= self.bet"
   ]
  },
  {
   "cell_type": "code",
   "execution_count": 7,
   "id": "mounted-algeria",
   "metadata": {},
   "outputs": [],
   "source": [
    "def take_bet(chips): # prompt the player for their bet\n",
    "    while True:\n",
    "        try:\n",
    "            chips.bet = int(console.input(\n",
    "                f'\\n[bold]How many chips would you like to bet?(Total Chips :point_right: - {chips.total_chips})[/]: '\n",
    "                ))\n",
    "        except ValueError:\n",
    "            console.print('Sorry, your bet should be an [bold underline violet]integer[/].')\n",
    "        else:\n",
    "            if chips.bet > chips.total_chips:\n",
    "                console.print(f'Your bet cannot exceed [bold green]{chips.total_chips}[/] chips')\n",
    "            else:\n",
    "                break"
   ]
  },
  {
   "cell_type": "code",
   "execution_count": 8,
   "id": "convinced-background",
   "metadata": {},
   "outputs": [],
   "source": [
    "def hit(deck, player):\n",
    "    player.add_card(deck.deal_card())\n",
    "    player.adjust_for_ace()"
   ]
  },
  {
   "cell_type": "code",
   "execution_count": 9,
   "id": "advised-german",
   "metadata": {},
   "outputs": [],
   "source": [
    "def hit_or_stand(deck, player): # asks the player whether to hit_or_stand()\n",
    "    global playing\n",
    "\n",
    "    while True:\n",
    "        x = console.input(\n",
    "            'Would you like to [bold underline]HIT[/] or [bold underline]STAND[/]? Enter H or S: '\n",
    "            )\n",
    "\n",
    "        if x[0].lower() == 'h':\n",
    "            hit(deck, player)\n",
    "        elif x[0].lower() == 's':\n",
    "            console.print('[bold green]Player decides to stand[/]. Dealer is playing...')\n",
    "            playing = False\n",
    "\n",
    "        else:\n",
    "            console.print('Sorry! Please try again.', style = 'bold red')\n",
    "            continue\n",
    "        \n",
    "        break"
   ]
  },
  {
   "cell_type": "code",
   "execution_count": 10,
   "id": "fatal-alarm",
   "metadata": {},
   "outputs": [],
   "source": [
    "def show_some(player, dealer): # shows some cards of dealer and all cards of player\n",
    "    # Dealer's Hand\n",
    "    console.print(\"[bold green]Dealer's[/] cards:\")\n",
    "    all_cards = [['┌───────┐', '|-------|','|-------|','|-------|','|-------|','|-------|','└───────┘']]\n",
    "    \n",
    "    for card in dealer.cards[1:]:\n",
    "        lines = ['┌───────┐',\n",
    "                f'| {card.rank:6}|',\n",
    "                '|       |',\n",
    "                f'|   {card.suit:4}|',\n",
    "                '|       |',\n",
    "                f'|     {card.rank:2}|',\n",
    "                '└───────┘']\n",
    "\n",
    "        all_cards.append(lines)\n",
    "\n",
    "    zipped = zip(*all_cards)\n",
    "    for tup in zipped:\n",
    "        print(*tup)\n",
    "\n",
    "    # Player's Hand\n",
    "    console.print(\"[bold green]Player's[/] cards:\")\n",
    "    \n",
    "    all_cards = []\n",
    "    for card in player.cards:\n",
    "        lines = ['┌───────┐',\n",
    "                f'| {card.rank:6}|',\n",
    "                '|       |',\n",
    "                f'|   {card.suit:4}|',\n",
    "                '|       |',\n",
    "                f'|     {card.rank:2}|',\n",
    "                '└───────┘']\n",
    "        all_cards.append(lines)\n",
    "\n",
    "    zipped = zip(*all_cards)\n",
    "    for tup in zipped:\n",
    "        print(*tup)"
   ]
  },
  {
   "cell_type": "code",
   "execution_count": 11,
   "id": "burning-vegetarian",
   "metadata": {},
   "outputs": [],
   "source": [
    "def show_all(player, dealer): # shows all the cards of player and the dealer\n",
    "    # Dealer's hand\n",
    "    console.print(\"[bold green]Dealer's[/] cards:\")\n",
    "    \n",
    "    all_cards = []\n",
    "    for card in dealer.cards:\n",
    "        lines = ['┌───────┐',\n",
    "                f'| {card.rank:6}|',\n",
    "                '|       |',\n",
    "                f'|   {card.suit:4}|',\n",
    "                '|       |',\n",
    "                f'|     {card.rank:2}|',\n",
    "                '└───────┘']\n",
    "        all_cards.append(lines)\n",
    "\n",
    "    zipped = zip(*all_cards)\n",
    "    for tup in zipped:\n",
    "        print(*tup)\n",
    "\n",
    "    # Player's Hand\n",
    "    console.print(\"[bold green]Player's[/] cards:\")\n",
    "    \n",
    "    all_cards = []\n",
    "    for card in player.cards:\n",
    "        lines = ['┌───────┐',\n",
    "                f'| {card.rank:6}|',\n",
    "                '|       |',\n",
    "                f'|   {card.suit:4}|',\n",
    "                '|       |',\n",
    "                f'|     {card.rank:2}|',\n",
    "                '└───────┘']\n",
    "        all_cards.append(lines)\n",
    "\n",
    "    zipped = zip(*all_cards)\n",
    "    for tup in zipped:\n",
    "        print(*tup)"
   ]
  },
  {
   "cell_type": "code",
   "execution_count": 12,
   "id": "amino-accused",
   "metadata": {},
   "outputs": [],
   "source": [
    "# funcs to declare win/lose\n",
    "def player_busts(player,dealer,chips):\n",
    "    console.print(\"[bold]Player [violet]busts[/]![/]\")\n",
    "    chips.lose_bet()\n",
    "\n",
    "def player_wins(player,dealer,chips):\n",
    "    console.print(\"[bold]Player [cyan]wins[/]![/]\")\n",
    "    chips.win_bet()\n",
    "\n",
    "def dealer_busts(player,dealer,chips):\n",
    "    console.print(\"[bold]Dealer [violet]busts[/]![/]\")\n",
    "    chips.win_bet()\n",
    "    \n",
    "def dealer_wins(player,dealer,chips):\n",
    "    console.print(\"[bold]Dealer [cyan]wins[/]![/]\")\n",
    "    chips.lose_bet()\n",
    "    \n",
    "def push(player,dealer):\n",
    "    console.print(\"[bold][green]Dealer[/] and [green]Player[/] tie! It's a [blue]PUSH[/].[/]\")"
   ]
  },
  {
   "cell_type": "code",
   "execution_count": 13,
   "id": "interstate-passport",
   "metadata": {},
   "outputs": [],
   "source": [
    "def replay():\n",
    "    return console.input(\n",
    "        \"\\n[bold magenta]Wanna play another hand?[/] Enter [bold blue]Y[/] or [bold blue]N[/]: \"\n",
    "        ).lower().startswith(\"y\")"
   ]
  },
  {
   "cell_type": "code",
   "execution_count": 14,
   "id": "standing-teaching",
   "metadata": {},
   "outputs": [
    {
     "data": {
      "text/html": [
       "<pre style=\"white-space:pre;overflow-x:auto;line-height:normal;font-family:Menlo,'DejaVu Sans Mono',consolas,'Courier New',monospace\"><span style=\"font-weight: bold\">Welcome to BlackJack! Get as close to </span><span style=\"color: #000080; text-decoration-color: #000080; font-weight: bold\">21</span><span style=\"font-weight: bold\"> as you can without going over!</span>\n",
       "<span style=\"font-weight: bold\">    Dealer hits until she reaches </span><span style=\"color: #000080; text-decoration-color: #000080; font-weight: bold\">17</span><span style=\"font-weight: bold\">. Aces count as </span><span style=\"color: #000080; text-decoration-color: #000080; font-weight: bold\">1</span><span style=\"font-weight: bold\"> or </span><span style=\"color: #000080; text-decoration-color: #000080; font-weight: bold\">11</span><span style=\"font-weight: bold\">.</span>\n",
       "</pre>\n"
      ],
      "text/plain": [
       "\u001b[1mWelcome to BlackJack! Get as close to \u001b[0m\u001b[1;34m21\u001b[0m\u001b[1m as you can without going over!\u001b[0m\n",
       "\u001b[1m    Dealer hits until she reaches \u001b[0m\u001b[1;34m17\u001b[0m\u001b[1m. Aces count as \u001b[0m\u001b[1;34m1\u001b[0m\u001b[1m or \u001b[0m\u001b[1;34m11\u001b[0m\u001b[1m.\u001b[0m\n"
      ]
     },
     "metadata": {},
     "output_type": "display_data"
    },
    {
     "data": {
      "text/html": [
       "<pre style=\"white-space:pre;overflow-x:auto;line-height:normal;font-family:Menlo,'DejaVu Sans Mono',consolas,'Courier New',monospace\"></pre>\n"
      ],
      "text/plain": []
     },
     "metadata": {},
     "output_type": "display_data"
    },
    {
     "name": "stdin",
     "output_type": "stream",
     "text": [
      "\n",
      "\u001b[1mHow many chips would you like to bet?\u001b[0m\u001b[1m(\u001b[0m\u001b[1mTotal Chips 👉 - \u001b[0m\u001b[1;36m100\u001b[0m\u001b[1m)\u001b[0m:  20\n"
     ]
    },
    {
     "data": {
      "text/html": [
       "<pre style=\"white-space:pre;overflow-x:auto;line-height:normal;font-family:Menlo,'DejaVu Sans Mono',consolas,'Courier New',monospace\"><span style=\"color: #008000; text-decoration-color: #008000; font-weight: bold\">Dealer's</span> cards:\n",
       "</pre>\n"
      ],
      "text/plain": [
       "\u001b[1;32mDealer's\u001b[0m cards:\n"
      ]
     },
     "metadata": {},
     "output_type": "display_data"
    },
    {
     "name": "stdout",
     "output_type": "stream",
     "text": [
      "┌───────┐ ┌───────┐\n",
      "|-------| | 7     |\n",
      "|-------| |       |\n",
      "|-------| |   ♢   |\n",
      "|-------| |       |\n",
      "|-------| |     7 |\n",
      "└───────┘ └───────┘\n"
     ]
    },
    {
     "data": {
      "text/html": [
       "<pre style=\"white-space:pre;overflow-x:auto;line-height:normal;font-family:Menlo,'DejaVu Sans Mono',consolas,'Courier New',monospace\"><span style=\"color: #008000; text-decoration-color: #008000; font-weight: bold\">Player's</span> cards:\n",
       "</pre>\n"
      ],
      "text/plain": [
       "\u001b[1;32mPlayer's\u001b[0m cards:\n"
      ]
     },
     "metadata": {},
     "output_type": "display_data"
    },
    {
     "name": "stdout",
     "output_type": "stream",
     "text": [
      "┌───────┐ ┌───────┐\n",
      "| 4     | | A     |\n",
      "|       | |       |\n",
      "|   ♢   | |   ♢   |\n",
      "|       | |       |\n",
      "|     4 | |     A |\n",
      "└───────┘ └───────┘\n"
     ]
    },
    {
     "data": {
      "text/html": [
       "<pre style=\"white-space:pre;overflow-x:auto;line-height:normal;font-family:Menlo,'DejaVu Sans Mono',consolas,'Courier New',monospace\"></pre>\n"
      ],
      "text/plain": []
     },
     "metadata": {},
     "output_type": "display_data"
    },
    {
     "name": "stdin",
     "output_type": "stream",
     "text": [
      "Would you like to \u001b[1;4mHIT\u001b[0m or \u001b[1;4mSTAND\u001b[0m? Enter H or S:  h\n"
     ]
    },
    {
     "data": {
      "text/html": [
       "<pre style=\"white-space:pre;overflow-x:auto;line-height:normal;font-family:Menlo,'DejaVu Sans Mono',consolas,'Courier New',monospace\"><span style=\"color: #008000; text-decoration-color: #008000; font-weight: bold\">Dealer's</span> cards:\n",
       "</pre>\n"
      ],
      "text/plain": [
       "\u001b[1;32mDealer's\u001b[0m cards:\n"
      ]
     },
     "metadata": {},
     "output_type": "display_data"
    },
    {
     "name": "stdout",
     "output_type": "stream",
     "text": [
      "┌───────┐ ┌───────┐\n",
      "|-------| | 7     |\n",
      "|-------| |       |\n",
      "|-------| |   ♢   |\n",
      "|-------| |       |\n",
      "|-------| |     7 |\n",
      "└───────┘ └───────┘\n"
     ]
    },
    {
     "data": {
      "text/html": [
       "<pre style=\"white-space:pre;overflow-x:auto;line-height:normal;font-family:Menlo,'DejaVu Sans Mono',consolas,'Courier New',monospace\"><span style=\"color: #008000; text-decoration-color: #008000; font-weight: bold\">Player's</span> cards:\n",
       "</pre>\n"
      ],
      "text/plain": [
       "\u001b[1;32mPlayer's\u001b[0m cards:\n"
      ]
     },
     "metadata": {},
     "output_type": "display_data"
    },
    {
     "name": "stdout",
     "output_type": "stream",
     "text": [
      "┌───────┐ ┌───────┐ ┌───────┐\n",
      "| 4     | | A     | | 8     |\n",
      "|       | |       | |       |\n",
      "|   ♢   | |   ♢   | |   ♢   |\n",
      "|       | |       | |       |\n",
      "|     4 | |     A | |     8 |\n",
      "└───────┘ └───────┘ └───────┘\n"
     ]
    },
    {
     "data": {
      "text/html": [
       "<pre style=\"white-space:pre;overflow-x:auto;line-height:normal;font-family:Menlo,'DejaVu Sans Mono',consolas,'Courier New',monospace\"></pre>\n"
      ],
      "text/plain": []
     },
     "metadata": {},
     "output_type": "display_data"
    },
    {
     "name": "stdin",
     "output_type": "stream",
     "text": [
      "Would you like to \u001b[1;4mHIT\u001b[0m or \u001b[1;4mSTAND\u001b[0m? Enter H or S:  s\n"
     ]
    },
    {
     "data": {
      "text/html": [
       "<pre style=\"white-space:pre;overflow-x:auto;line-height:normal;font-family:Menlo,'DejaVu Sans Mono',consolas,'Courier New',monospace\"><span style=\"color: #008000; text-decoration-color: #008000; font-weight: bold\">Player decides to stand</span>. Dealer is playing<span style=\"color: #808000; text-decoration-color: #808000\">...</span>\n",
       "</pre>\n"
      ],
      "text/plain": [
       "\u001b[1;32mPlayer decides to stand\u001b[0m. Dealer is playing\u001b[33m...\u001b[0m\n"
      ]
     },
     "metadata": {},
     "output_type": "display_data"
    },
    {
     "data": {
      "text/html": [
       "<pre style=\"white-space:pre;overflow-x:auto;line-height:normal;font-family:Menlo,'DejaVu Sans Mono',consolas,'Courier New',monospace\"><span style=\"color: #008000; text-decoration-color: #008000; font-weight: bold\">Dealer's</span> cards:\n",
       "</pre>\n"
      ],
      "text/plain": [
       "\u001b[1;32mDealer's\u001b[0m cards:\n"
      ]
     },
     "metadata": {},
     "output_type": "display_data"
    },
    {
     "name": "stdout",
     "output_type": "stream",
     "text": [
      "┌───────┐ ┌───────┐\n",
      "|-------| | 7     |\n",
      "|-------| |       |\n",
      "|-------| |   ♢   |\n",
      "|-------| |       |\n",
      "|-------| |     7 |\n",
      "└───────┘ └───────┘\n"
     ]
    },
    {
     "data": {
      "text/html": [
       "<pre style=\"white-space:pre;overflow-x:auto;line-height:normal;font-family:Menlo,'DejaVu Sans Mono',consolas,'Courier New',monospace\"><span style=\"color: #008000; text-decoration-color: #008000; font-weight: bold\">Player's</span> cards:\n",
       "</pre>\n"
      ],
      "text/plain": [
       "\u001b[1;32mPlayer's\u001b[0m cards:\n"
      ]
     },
     "metadata": {},
     "output_type": "display_data"
    },
    {
     "name": "stdout",
     "output_type": "stream",
     "text": [
      "┌───────┐ ┌───────┐ ┌───────┐\n",
      "| 4     | | A     | | 8     |\n",
      "|       | |       | |       |\n",
      "|   ♢   | |   ♢   | |   ♢   |\n",
      "|       | |       | |       |\n",
      "|     4 | |     A | |     8 |\n",
      "└───────┘ └───────┘ └───────┘\n"
     ]
    },
    {
     "data": {
      "text/html": [
       "<pre style=\"white-space:pre;overflow-x:auto;line-height:normal;font-family:Menlo,'DejaVu Sans Mono',consolas,'Courier New',monospace\"><span style=\"color: #008000; text-decoration-color: #008000; font-weight: bold\">Dealer's</span> cards:\n",
       "</pre>\n"
      ],
      "text/plain": [
       "\u001b[1;32mDealer's\u001b[0m cards:\n"
      ]
     },
     "metadata": {},
     "output_type": "display_data"
    },
    {
     "name": "stdout",
     "output_type": "stream",
     "text": [
      "┌───────┐ ┌───────┐ ┌───────┐\n",
      "| 6     | | 7     | | 10    |\n",
      "|       | |       | |       |\n",
      "|   ♢   | |   ♢   | |   ♤   |\n",
      "|       | |       | |       |\n",
      "|     6 | |     7 | |     10|\n",
      "└───────┘ └───────┘ └───────┘\n"
     ]
    },
    {
     "data": {
      "text/html": [
       "<pre style=\"white-space:pre;overflow-x:auto;line-height:normal;font-family:Menlo,'DejaVu Sans Mono',consolas,'Courier New',monospace\"><span style=\"color: #008000; text-decoration-color: #008000; font-weight: bold\">Player's</span> cards:\n",
       "</pre>\n"
      ],
      "text/plain": [
       "\u001b[1;32mPlayer's\u001b[0m cards:\n"
      ]
     },
     "metadata": {},
     "output_type": "display_data"
    },
    {
     "name": "stdout",
     "output_type": "stream",
     "text": [
      "┌───────┐ ┌───────┐ ┌───────┐\n",
      "| 4     | | A     | | 8     |\n",
      "|       | |       | |       |\n",
      "|   ♢   | |   ♢   | |   ♢   |\n",
      "|       | |       | |       |\n",
      "|     4 | |     A | |     8 |\n",
      "└───────┘ └───────┘ └───────┘\n"
     ]
    },
    {
     "data": {
      "text/html": [
       "<pre style=\"white-space:pre;overflow-x:auto;line-height:normal;font-family:Menlo,'DejaVu Sans Mono',consolas,'Courier New',monospace\"><span style=\"font-weight: bold\">Dealer </span><span style=\"color: #d787ff; text-decoration-color: #d787ff; font-weight: bold\">busts</span><span style=\"font-weight: bold\">!</span>\n",
       "</pre>\n"
      ],
      "text/plain": [
       "\u001b[1mDealer \u001b[0m\u001b[1;38;5;177mbusts\u001b[0m\u001b[1m!\u001b[0m\n"
      ]
     },
     "metadata": {},
     "output_type": "display_data"
    },
    {
     "data": {
      "text/html": [
       "<pre style=\"white-space:pre;overflow-x:auto;line-height:normal;font-family:Menlo,'DejaVu Sans Mono',consolas,'Courier New',monospace\">\n",
       "Player's total chips are at <span style=\"color: #008080; text-decoration-color: #008080; font-weight: bold\">120</span>\n",
       "</pre>\n"
      ],
      "text/plain": [
       "\n",
       "Player's total chips are at \u001b[1;36m120\u001b[0m\n"
      ]
     },
     "metadata": {},
     "output_type": "display_data"
    },
    {
     "data": {
      "text/html": [
       "<pre style=\"white-space:pre;overflow-x:auto;line-height:normal;font-family:Menlo,'DejaVu Sans Mono',consolas,'Courier New',monospace\"></pre>\n"
      ],
      "text/plain": []
     },
     "metadata": {},
     "output_type": "display_data"
    },
    {
     "name": "stdin",
     "output_type": "stream",
     "text": [
      "\n",
      "\u001b[1;35mWanna play another hand?\u001b[0m Enter \u001b[1;34mY\u001b[0m or \u001b[1;34mN\u001b[0m:  n\n"
     ]
    },
    {
     "data": {
      "text/html": [
       "<pre style=\"white-space:pre;overflow-x:auto;line-height:normal;font-family:Menlo,'DejaVu Sans Mono',consolas,'Courier New',monospace\"><span style=\"color: #af00ff; text-decoration-color: #af00ff; font-weight: bold\">Thanks for playing!</span>\n",
       "</pre>\n"
      ],
      "text/plain": [
       "\u001b[1;38;5;129mThanks for playing!\u001b[0m\n"
      ]
     },
     "metadata": {},
     "output_type": "display_data"
    }
   ],
   "source": [
    "# Set up the Player's chips\n",
    "player_chips = Chips()  # remember the default value is 100 \n",
    "\n",
    "# game logic\n",
    "while True:\n",
    "    # if player has no Chips:\n",
    "        # player lost the game\n",
    "    if player_chips.total_chips == 0:\n",
    "        console.print(\"\\n[bold][green]Player[/] out of chips...can't play anymore![/]\")\n",
    "        break\n",
    "    \n",
    "    # Print an opening statement\n",
    "    console.print('[bold]Welcome to BlackJack! Get as close to [blue]21[/] as you can without going over!\\n\\\n",
    "    Dealer hits until she reaches [blue]17[/]. Aces count as [blue]1[/] or [blue]11[/].[/]')\n",
    "    \n",
    "    # Create & shuffle the deck, deal two cards to each player\n",
    "    deck = Deck()\n",
    "    deck.shuffle_deck()\n",
    "\n",
    "    # creating an instance of player and dealer\n",
    "    player_hand = Player(False) # Player\n",
    "    dealer_hand = Player(True)  # Dealer\n",
    "\n",
    "    # dealing cards to player and dealer\n",
    "    for x in range(2):\n",
    "        player_hand.add_card(deck.deal_card())\n",
    "        dealer_hand.add_card(deck.deal_card())\n",
    "\n",
    "    \n",
    "    # Prompt the Player for their bet\n",
    "    take_bet(player_chips)\n",
    "    \n",
    "    # Show cards (but keep one dealer card hidden)\n",
    "    show_some(player_hand,dealer_hand)\n",
    "    \n",
    "    while playing:\n",
    "        \n",
    "        # Prompt for Player to Hit or Stand\n",
    "        hit_or_stand(deck,player_hand) \n",
    "        \n",
    "        # Show cards (but keep one dealer card hidden)\n",
    "        show_some(player_hand,dealer_hand)  \n",
    "        \n",
    "        # If player's hand exceeds 21, run player_busts() and break out of loop\n",
    "        if player_hand.value > 21:\n",
    "            player_busts(player_hand,dealer_hand,player_chips)\n",
    "            break        \n",
    "\n",
    "\n",
    "    # If Player hasn't busted, play Dealer's hand until Dealer reaches 17 \n",
    "    if player_hand.value <= 21:\n",
    "        \n",
    "        while dealer_hand.value < 17:\n",
    "            hit(deck,dealer_hand)    \n",
    "    \n",
    "        # Show all cards\n",
    "        show_all(player_hand,dealer_hand)\n",
    "        \n",
    "        # Run different winning scenarios\n",
    "        if dealer_hand.value > 21:\n",
    "            dealer_busts(player_hand,dealer_hand,player_chips)\n",
    "\n",
    "        elif dealer_hand.value > player_hand.value:\n",
    "            dealer_wins(player_hand,dealer_hand,player_chips)\n",
    "\n",
    "        elif dealer_hand.value < player_hand.value:\n",
    "            player_wins(player_hand,dealer_hand,player_chips)\n",
    "\n",
    "        else:\n",
    "            push(player_hand,dealer_hand)        \n",
    "    \n",
    "    # Inform Player of their chips total \n",
    "    console.print(f\"\\nPlayer's total chips are at [bold turquoise]{player_chips.total_chips}[/]\")\n",
    "    \n",
    "    # Ask to play again\n",
    "    user_choice = replay()\n",
    "    if  user_choice== True:\n",
    "        playing = True\n",
    "    \n",
    "    elif not user_choice:\n",
    "        console.print('Thanks for playing!', style = 'bold purple')\n",
    "        break"
   ]
  },
  {
   "cell_type": "code",
   "execution_count": null,
   "id": "august-essex",
   "metadata": {},
   "outputs": [],
   "source": []
  }
 ],
 "metadata": {
  "kernelspec": {
   "display_name": "Python 3",
   "language": "python",
   "name": "python3"
  },
  "language_info": {
   "codemirror_mode": {
    "name": "ipython",
    "version": 3
   },
   "file_extension": ".py",
   "mimetype": "text/x-python",
   "name": "python",
   "nbconvert_exporter": "python",
   "pygments_lexer": "ipython3",
   "version": "3.7.8"
  }
 },
 "nbformat": 4,
 "nbformat_minor": 5
}
